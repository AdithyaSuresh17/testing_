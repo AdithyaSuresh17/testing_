{
 "cells": [
  {
   "cell_type": "code",
   "execution_count": 1,
   "source": [
    "class robot:\n",
    "    def __init__(self,name,age,height):\n",
    "    #this \"self\" is used to refer to what ever object we're running this on. Eg: if we're running it on tom, it'll take tom's age,name height values etc\n",
    "        self.name=name\n",
    "        self.age=age\n",
    "        self.height=height\n",
    "    def intro_self(self):\n",
    "        print(\"hello, my name is: \", self.name)\n",
    "    "
   ],
   "outputs": [],
   "metadata": {}
  },
  {
   "cell_type": "code",
   "execution_count": null,
   "source": [
    "r1=robot() #created an object r1\n",
    "r1.name=\"Tom\"\n",
    "r1.age=12\n",
    "r1.height=1.5\n",
    "\n",
    "r2=robot() #created an object r1\n",
    "r2.name=\"Jerry\"\n",
    "r2.age=16\n",
    "r2.height=1.78\n"
   ],
   "outputs": [],
   "metadata": {}
  },
  {
   "cell_type": "code",
   "execution_count": null,
   "source": [
    "print(r1.age)"
   ],
   "outputs": [],
   "metadata": {}
  }
 ],
 "metadata": {
  "orig_nbformat": 4,
  "language_info": {
   "name": "python",
   "version": "3.9.7",
   "mimetype": "text/x-python",
   "codemirror_mode": {
    "name": "ipython",
    "version": 3
   },
   "pygments_lexer": "ipython3",
   "nbconvert_exporter": "python",
   "file_extension": ".py"
  },
  "kernelspec": {
   "name": "python3",
   "display_name": "Python 3.9.7 64-bit"
  },
  "interpreter": {
   "hash": "aee8b7b246df8f9039afb4144a1f6fd8d2ca17a180786b69acc140d282b71a49"
  }
 },
 "nbformat": 4,
 "nbformat_minor": 2
}