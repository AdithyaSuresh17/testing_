{
 "cells": [
  {
   "cell_type": "code",
   "execution_count": 1,
   "source": [
    "import random\n",
    "random.randint(30,99)"
   ],
   "outputs": [
    {
     "output_type": "execute_result",
     "data": {
      "text/plain": [
       "72"
      ]
     },
     "metadata": {},
     "execution_count": 1
    }
   ],
   "metadata": {}
  },
  {
   "cell_type": "code",
   "execution_count": 7,
   "source": [
    "listofmarks=list()\n",
    "for i in range(60):\n",
    "    marks=random.randint(30,99)\n",
    "    listofmarks+=[marks,]\n",
    "print(listofmarks)\n"
   ],
   "outputs": [
    {
     "output_type": "stream",
     "name": "stdout",
     "text": [
      "[32, 84, 73, 40, 52, 54, 41, 35, 47, 56, 60, 55, 85, 95, 69, 38, 55, 63, 52, 55, 71, 48, 74, 31, 55, 33, 48, 77, 99, 75, 48, 64, 53, 72, 41, 94, 71, 38, 91, 72, 50, 84, 51, 76, 33, 75, 68, 54, 82, 33, 64, 91, 81, 86, 93, 60, 52, 87, 58, 57]\n"
     ]
    }
   ],
   "metadata": {}
  },
  {
   "cell_type": "code",
   "execution_count": 11,
   "source": [
    "l30_40=list()\n",
    "l40_50=list()\n",
    "l50_60=list()\n",
    "l60_70=list()\n",
    "l70_80=list()\n",
    "l80_90=list()\n",
    "l90_99=list()\n",
    "for i in listofmarks:\n",
    "    if i in range(30,40):\n",
    "        l30_40+=[i,]\n",
    "    elif i in range(40,50):\n",
    "        l40_50+=[i,]\n",
    "    elif i in range(50,60):\n",
    "        l50_60+=[i,]\n",
    "    elif i in range(60,70):\n",
    "        l60_70+=[i,]\n",
    "    elif i in range(70,80):\n",
    "        l70_80+=[i,]\n",
    "    elif i in range(80,90):\n",
    "        l80_90+=[i,]\n",
    "    elif i in range(90,100):\n",
    "        l90_99+=[i,]\n",
    "print(len(l30_40),len(l40_50),len(l50_60),len(l60_70),len(l70_80),len(l80_90),len(l90_99))"
   ],
   "outputs": [
    {
     "output_type": "stream",
     "name": "stdout",
     "text": [
      "8 7 15 7 10 7 6\n"
     ]
    }
   ],
   "metadata": {}
  }
 ],
 "metadata": {
  "orig_nbformat": 4,
  "language_info": {
   "name": "python",
   "version": "3.9.7",
   "mimetype": "text/x-python",
   "codemirror_mode": {
    "name": "ipython",
    "version": 3
   },
   "pygments_lexer": "ipython3",
   "nbconvert_exporter": "python",
   "file_extension": ".py"
  },
  "kernelspec": {
   "name": "python3",
   "display_name": "Python 3.9.7 64-bit"
  },
  "interpreter": {
   "hash": "aee8b7b246df8f9039afb4144a1f6fd8d2ca17a180786b69acc140d282b71a49"
  }
 },
 "nbformat": 4,
 "nbformat_minor": 2
}